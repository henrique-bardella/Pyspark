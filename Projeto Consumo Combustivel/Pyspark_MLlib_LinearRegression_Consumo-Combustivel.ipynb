{
 "cells": [
  {
   "cell_type": "markdown",
   "id": "f9db56d3",
   "metadata": {},
   "source": [
    "\n",
    "## <font color='blue'>Machine Learning com PySpark</font>"
   ]
  },
  {
   "cell_type": "markdown",
   "id": "27c9366a",
   "metadata": {},
   "source": [
    "Usaremos Regressão Linear para prever o consumo de combustível de automóveis.\n",
    "\n",
    "A variável **consumo** no dataset1.csv será a variável target (dependente) e as demais variáveis serão candidatas a features (variáveis preditoras ou independentes). \n",
    "\n",
    "Será um problema de Regressão Linear Múltipla (quando temos mais de 1 variável preditora ou independente)."
   ]
  },
  {
   "cell_type": "code",
   "execution_count": 1,
   "id": "a986da64",
   "metadata": {},
   "outputs": [
    {
     "name": "stdout",
     "output_type": "stream",
     "text": [
      "Versão Python Usada Neste Jupyter Notebook: 3.9.12\n"
     ]
    }
   ],
   "source": [
    "# Versão da Linguagem Python\n",
    "from platform import python_version\n",
    "print('Versão Python Usada Neste Jupyter Notebook:', python_version())"
   ]
  },
  {
   "cell_type": "code",
   "execution_count": 2,
   "id": "d656252c",
   "metadata": {},
   "outputs": [],
   "source": [
    "# Importa o findspark e inicializa\n",
    "import findspark\n",
    "findspark.init()"
   ]
  },
  {
   "cell_type": "code",
   "execution_count": 3,
   "id": "b972083c",
   "metadata": {},
   "outputs": [],
   "source": [
    "# Imports\n",
    "import numpy as np\n",
    "import pyspark\n",
    "from pyspark import SparkContext\n",
    "from pyspark.sql import SparkSession\n",
    "from pyspark.sql import Row\n",
    "from pyspark.ml.linalg import Vectors\n",
    "from pyspark.ml.regression import LinearRegression\n",
    "from pyspark.ml.evaluation import RegressionEvaluator"
   ]
  },
  {
   "cell_type": "code",
   "execution_count": 4,
   "id": "95b1a7e4",
   "metadata": {},
   "outputs": [
    {
     "name": "stdout",
     "output_type": "stream",
     "text": [
      "Author: Henrique Bardella\n",
      "\n",
      "numpy    : 1.21.6\n",
      "findspark: 2.0.1\n",
      "pyspark  : 3.3.0\n",
      "\n"
     ]
    }
   ],
   "source": [
    "# Versões dos pacotes usados neste jupyter notebook\n",
    "%reload_ext watermark\n",
    "%watermark -a \"Henrique Bardella\" --iversions"
   ]
  },
  {
   "cell_type": "code",
   "execution_count": 5,
   "id": "6ddc9984",
   "metadata": {},
   "outputs": [],
   "source": [
    "# Carregando os Dados"
   ]
  },
  {
   "cell_type": "code",
   "execution_count": 6,
   "id": "c56b2ea6",
   "metadata": {},
   "outputs": [],
   "source": [
    "# Criando o Spark Context\n",
    "sc = SparkContext(appName = 'Lab5-Pyspark-MLlib-Consumo_Combustivel')"
   ]
  },
  {
   "cell_type": "code",
   "execution_count": 8,
   "id": "9daeaa39",
   "metadata": {},
   "outputs": [],
   "source": [
    "sc.setLogLevel(\"ERROR\")"
   ]
  },
  {
   "cell_type": "code",
   "execution_count": 9,
   "id": "eeeaa1cb",
   "metadata": {},
   "outputs": [],
   "source": [
    "# Criando o spark session\n",
    "spSession = SparkSession.builder.master('local').getOrCreate()"
   ]
  },
  {
   "cell_type": "code",
   "execution_count": 10,
   "id": "614c6ee3",
   "metadata": {},
   "outputs": [],
   "source": [
    "# Carregfando o dataset e gerando um RDD\n",
    "dados = sc.textFile(\"dados/dataset1.csv\")"
   ]
  },
  {
   "cell_type": "code",
   "execution_count": 11,
   "id": "f5c3901e",
   "metadata": {},
   "outputs": [
    {
     "data": {
      "text/plain": [
       "pyspark.rdd.RDD"
      ]
     },
     "execution_count": 11,
     "metadata": {},
     "output_type": "execute_result"
    }
   ],
   "source": [
    "type(dados)"
   ]
  },
  {
   "cell_type": "code",
   "execution_count": 12,
   "id": "ac48d0fb",
   "metadata": {},
   "outputs": [
    {
     "data": {
      "text/plain": [
       "dados/dataset1.csv MapPartitionsRDD[1] at textFile at NativeMethodAccessorImpl.java:0"
      ]
     },
     "execution_count": 12,
     "metadata": {},
     "output_type": "execute_result"
    }
   ],
   "source": [
    "# Colocando o RDD em cache. Esse processo otimiza a performance\n",
    "dados.cache()"
   ]
  },
  {
   "cell_type": "code",
   "execution_count": 13,
   "id": "7ec2800d",
   "metadata": {},
   "outputs": [
    {
     "data": {
      "text/plain": [
       "399"
      ]
     },
     "execution_count": 13,
     "metadata": {},
     "output_type": "execute_result"
    }
   ],
   "source": [
    "# Número de registros\n",
    "dados.count()"
   ]
  },
  {
   "cell_type": "code",
   "execution_count": 14,
   "id": "4bc93333",
   "metadata": {},
   "outputs": [
    {
     "data": {
      "text/plain": [
       "['consumo,numero_cilindros,capacidade,horsepower,peso,aceleracao,ano,nome',\n",
       " '30,4,79,70,2074,19.5,71,peugeot 304',\n",
       " '30,4,88,76,2065,14.5,71,fiat 124b',\n",
       " '31,4,71,65,1773,19,71,toyota corolla 1200',\n",
       " '35,4,72,69,1613,18,71,datsun 1200']"
      ]
     },
     "execution_count": 14,
     "metadata": {},
     "output_type": "execute_result"
    }
   ],
   "source": [
    "# Visualizando as primeiras linhas\n",
    "dados.take(5)"
   ]
  },
  {
   "cell_type": "code",
   "execution_count": 15,
   "id": "978a9705",
   "metadata": {},
   "outputs": [
    {
     "data": {
      "text/plain": [
       "398"
      ]
     },
     "execution_count": 15,
     "metadata": {},
     "output_type": "execute_result"
    }
   ],
   "source": [
    "# Removendo a primeira linha do arquivo\n",
    "dados2 = dados.filter(lambda x: \"horsepower\" not in x)\n",
    "dados2.count()"
   ]
  },
  {
   "cell_type": "code",
   "execution_count": 16,
   "id": "7288bc09",
   "metadata": {},
   "outputs": [],
   "source": [
    "# Limpeza de Dados"
   ]
  },
  {
   "cell_type": "code",
   "execution_count": 17,
   "id": "bb6b271d",
   "metadata": {},
   "outputs": [],
   "source": [
    "# Converte um RDD para dataframe spark\n",
    "df_spark = dados2.map(lambda x: str(x)).map(lambda w: w.split(',')).toDF()"
   ]
  },
  {
   "cell_type": "code",
   "execution_count": 18,
   "id": "f5571fa2",
   "metadata": {},
   "outputs": [],
   "source": [
    "# Converte dataframe spark para dataframe pandas\n",
    "df_pandas = df_spark.toPandas()"
   ]
  },
  {
   "cell_type": "code",
   "execution_count": 19,
   "id": "0f01f204",
   "metadata": {},
   "outputs": [
    {
     "data": {
      "text/html": [
       "<div>\n",
       "<style scoped>\n",
       "    .dataframe tbody tr th:only-of-type {\n",
       "        vertical-align: middle;\n",
       "    }\n",
       "\n",
       "    .dataframe tbody tr th {\n",
       "        vertical-align: top;\n",
       "    }\n",
       "\n",
       "    .dataframe thead th {\n",
       "        text-align: right;\n",
       "    }\n",
       "</style>\n",
       "<table border=\"1\" class=\"dataframe\">\n",
       "  <thead>\n",
       "    <tr style=\"text-align: right;\">\n",
       "      <th></th>\n",
       "      <th>_1</th>\n",
       "      <th>_2</th>\n",
       "      <th>_3</th>\n",
       "      <th>_4</th>\n",
       "      <th>_5</th>\n",
       "      <th>_6</th>\n",
       "      <th>_7</th>\n",
       "      <th>_8</th>\n",
       "    </tr>\n",
       "  </thead>\n",
       "  <tbody>\n",
       "    <tr>\n",
       "      <th>0</th>\n",
       "      <td>30</td>\n",
       "      <td>4</td>\n",
       "      <td>79</td>\n",
       "      <td>70</td>\n",
       "      <td>2074</td>\n",
       "      <td>19.5</td>\n",
       "      <td>71</td>\n",
       "      <td>peugeot 304</td>\n",
       "    </tr>\n",
       "    <tr>\n",
       "      <th>1</th>\n",
       "      <td>30</td>\n",
       "      <td>4</td>\n",
       "      <td>88</td>\n",
       "      <td>76</td>\n",
       "      <td>2065</td>\n",
       "      <td>14.5</td>\n",
       "      <td>71</td>\n",
       "      <td>fiat 124b</td>\n",
       "    </tr>\n",
       "    <tr>\n",
       "      <th>2</th>\n",
       "      <td>31</td>\n",
       "      <td>4</td>\n",
       "      <td>71</td>\n",
       "      <td>65</td>\n",
       "      <td>1773</td>\n",
       "      <td>19</td>\n",
       "      <td>71</td>\n",
       "      <td>toyota corolla 1200</td>\n",
       "    </tr>\n",
       "    <tr>\n",
       "      <th>3</th>\n",
       "      <td>35</td>\n",
       "      <td>4</td>\n",
       "      <td>72</td>\n",
       "      <td>69</td>\n",
       "      <td>1613</td>\n",
       "      <td>18</td>\n",
       "      <td>71</td>\n",
       "      <td>datsun 1200</td>\n",
       "    </tr>\n",
       "    <tr>\n",
       "      <th>4</th>\n",
       "      <td>27</td>\n",
       "      <td>4</td>\n",
       "      <td>97</td>\n",
       "      <td>60</td>\n",
       "      <td>1834</td>\n",
       "      <td>19</td>\n",
       "      <td>71</td>\n",
       "      <td>volkswagen model 111</td>\n",
       "    </tr>\n",
       "  </tbody>\n",
       "</table>\n",
       "</div>"
      ],
      "text/plain": [
       "   _1 _2  _3  _4    _5    _6  _7                    _8\n",
       "0  30  4  79  70  2074  19.5  71           peugeot 304\n",
       "1  30  4  88  76  2065  14.5  71             fiat 124b\n",
       "2  31  4  71  65  1773    19  71   toyota corolla 1200\n",
       "3  35  4  72  69  1613    18  71           datsun 1200\n",
       "4  27  4  97  60  1834    19  71  volkswagen model 111"
      ]
     },
     "execution_count": 19,
     "metadata": {},
     "output_type": "execute_result"
    }
   ],
   "source": [
    "df_pandas.head()"
   ]
  },
  {
   "cell_type": "code",
   "execution_count": 20,
   "id": "72682828",
   "metadata": {},
   "outputs": [
    {
     "data": {
      "text/plain": [
       "False"
      ]
     },
     "execution_count": 20,
     "metadata": {},
     "output_type": "execute_result"
    }
   ],
   "source": [
    "# verificacao de valores nulos\n",
    "df_pandas.isnull().values.any()"
   ]
  },
  {
   "cell_type": "code",
   "execution_count": 22,
   "id": "4e39ac6f",
   "metadata": {},
   "outputs": [
    {
     "data": {
      "text/plain": [
       "6"
      ]
     },
     "execution_count": 22,
     "metadata": {},
     "output_type": "execute_result"
    }
   ],
   "source": [
    "# verificacao valores ausentes ('?')\n",
    "total = np.sum(df_pandas.apply(lambda x: x.str.contains('\\?')).values)\n",
    "total"
   ]
  },
  {
   "cell_type": "code",
   "execution_count": 23,
   "id": "19e29cc1",
   "metadata": {},
   "outputs": [
    {
     "data": {
      "text/plain": [
       "(array([ 48, 126, 330, 336, 354, 374], dtype=int64),\n",
       " array([3, 3, 3, 3, 3, 3], dtype=int64))"
      ]
     },
     "execution_count": 23,
     "metadata": {},
     "output_type": "execute_result"
    }
   ],
   "source": [
    "# verificacao quals linhas e colunas têm caracter especial\n",
    "np.where(df_pandas.apply(lambda x: x.str.contains('\\?')).values)"
   ]
  },
  {
   "cell_type": "code",
   "execution_count": 28,
   "id": "c6d2e521",
   "metadata": {},
   "outputs": [
    {
     "data": {
      "text/plain": [
       "_1            25\n",
       "_2             4\n",
       "_3            98\n",
       "_4             ?\n",
       "_5          2046\n",
       "_6            19\n",
       "_7            71\n",
       "_8    ford pinto\n",
       "Name: 48, dtype: object"
      ]
     },
     "execution_count": 28,
     "metadata": {},
     "output_type": "execute_result"
    }
   ],
   "source": [
    "df_pandas.iloc[48]"
   ]
  },
  {
   "cell_type": "code",
   "execution_count": 38,
   "id": "51a7f1af",
   "metadata": {},
   "outputs": [
    {
     "data": {
      "text/html": [
       "<div>\n",
       "<style scoped>\n",
       "    .dataframe tbody tr th:only-of-type {\n",
       "        vertical-align: middle;\n",
       "    }\n",
       "\n",
       "    .dataframe tbody tr th {\n",
       "        vertical-align: top;\n",
       "    }\n",
       "\n",
       "    .dataframe thead th {\n",
       "        text-align: right;\n",
       "    }\n",
       "</style>\n",
       "<table border=\"1\" class=\"dataframe\">\n",
       "  <thead>\n",
       "    <tr style=\"text-align: right;\">\n",
       "      <th></th>\n",
       "      <th>_1</th>\n",
       "      <th>_2</th>\n",
       "      <th>_3</th>\n",
       "      <th>_4</th>\n",
       "      <th>_5</th>\n",
       "      <th>_6</th>\n",
       "      <th>_7</th>\n",
       "      <th>_8</th>\n",
       "    </tr>\n",
       "  </thead>\n",
       "  <tbody>\n",
       "    <tr>\n",
       "      <th>count</th>\n",
       "      <td>398</td>\n",
       "      <td>398</td>\n",
       "      <td>398</td>\n",
       "      <td>398</td>\n",
       "      <td>398</td>\n",
       "      <td>398</td>\n",
       "      <td>398</td>\n",
       "      <td>398</td>\n",
       "    </tr>\n",
       "    <tr>\n",
       "      <th>unique</th>\n",
       "      <td>129</td>\n",
       "      <td>5</td>\n",
       "      <td>82</td>\n",
       "      <td>94</td>\n",
       "      <td>351</td>\n",
       "      <td>95</td>\n",
       "      <td>13</td>\n",
       "      <td>305</td>\n",
       "    </tr>\n",
       "    <tr>\n",
       "      <th>top</th>\n",
       "      <td>13</td>\n",
       "      <td>4</td>\n",
       "      <td>97</td>\n",
       "      <td>150</td>\n",
       "      <td>1985</td>\n",
       "      <td>14.5</td>\n",
       "      <td>73</td>\n",
       "      <td>ford pinto</td>\n",
       "    </tr>\n",
       "    <tr>\n",
       "      <th>freq</th>\n",
       "      <td>20</td>\n",
       "      <td>204</td>\n",
       "      <td>21</td>\n",
       "      <td>22</td>\n",
       "      <td>4</td>\n",
       "      <td>23</td>\n",
       "      <td>40</td>\n",
       "      <td>6</td>\n",
       "    </tr>\n",
       "  </tbody>\n",
       "</table>\n",
       "</div>"
      ],
      "text/plain": [
       "         _1   _2   _3   _4    _5    _6   _7          _8\n",
       "count   398  398  398  398   398   398  398         398\n",
       "unique  129    5   82   94   351    95   13         305\n",
       "top      13    4   97  150  1985  14.5   73  ford pinto\n",
       "freq     20  204   21   22     4    23   40           6"
      ]
     },
     "execution_count": 38,
     "metadata": {},
     "output_type": "execute_result"
    }
   ],
   "source": [
    "df_pandas.describe()"
   ]
  },
  {
   "cell_type": "code",
   "execution_count": 31,
   "id": "4479bf0d",
   "metadata": {},
   "outputs": [],
   "source": [
    "# Usando o valor average HP para preencher os valores ausente\n",
    "# variável broadcast é uma variavel global no spark\n",
    "mediaHP = sc.broadcast(75.0)"
   ]
  },
  {
   "cell_type": "code",
   "execution_count": 39,
   "id": "504f4db1",
   "metadata": {},
   "outputs": [],
   "source": [
    "# Função para limpeza dos dados\n",
    "def limpaDados(inputStr) :\n",
    "    \n",
    "    # Variável global\n",
    "    global mediaHP\n",
    "    \n",
    "    # Lista de atributos\n",
    "    attList = inputStr.split(\",\")\n",
    "    \n",
    "    # Substitui o caracter ? por um valor na coluna de índice 3\n",
    "    hpValue = attList[3]\n",
    "    if hpValue == \"?\":\n",
    "        hpValue = mediaHP.value\n",
    "       \n",
    "    # Cria uma linha usando a função Row, limpando e convertendo os dados de string para float\n",
    "    linhas = Row(consumo = float(attList[0]), \n",
    "                 numero_cilindros = float(attList[1]), \n",
    "                 capacidade = float(attList[2]), \n",
    "                 hosrsepower = float(hpValue), \n",
    "                 peso = float(attList[4]), \n",
    "                 aceleracao = float(attList[5]), \n",
    "                 ano = float(attList[6]), \n",
    "                 nome = attList[7]) \n",
    "    return linhas"
   ]
  },
  {
   "cell_type": "code",
   "execution_count": 40,
   "id": "55b38e80",
   "metadata": {},
   "outputs": [
    {
     "data": {
      "text/plain": [
       "[Row(consumo=30.0, numero_cilindros=4.0, capacidade=79.0, hosrsepower=70.0, peso=2074.0, aceleracao=19.5, ano=71.0, nome='peugeot 304'),\n",
       " Row(consumo=30.0, numero_cilindros=4.0, capacidade=88.0, hosrsepower=76.0, peso=2065.0, aceleracao=14.5, ano=71.0, nome='fiat 124b'),\n",
       " Row(consumo=31.0, numero_cilindros=4.0, capacidade=71.0, hosrsepower=65.0, peso=1773.0, aceleracao=19.0, ano=71.0, nome='toyota corolla 1200'),\n",
       " Row(consumo=35.0, numero_cilindros=4.0, capacidade=72.0, hosrsepower=69.0, peso=1613.0, aceleracao=18.0, ano=71.0, nome='datsun 1200'),\n",
       " Row(consumo=27.0, numero_cilindros=4.0, capacidade=97.0, hosrsepower=60.0, peso=1834.0, aceleracao=19.0, ano=71.0, nome='volkswagen model 111')]"
      ]
     },
     "execution_count": 40,
     "metadata": {},
     "output_type": "execute_result"
    }
   ],
   "source": [
    "# Executa a função no RDD\n",
    "dados3 = dados2.map(limpaDados)\n",
    "dados3.cache()\n",
    "dados3.take(5)"
   ]
  },
  {
   "cell_type": "code",
   "execution_count": 41,
   "id": "b4b4aa00",
   "metadata": {},
   "outputs": [],
   "source": [
    "# Análise Exploratória de dados"
   ]
  },
  {
   "cell_type": "code",
   "execution_count": 42,
   "id": "5674d152",
   "metadata": {},
   "outputs": [],
   "source": [
    "# cria um df\n",
    "df_carros = spSession.createDataFrame(dados3)"
   ]
  },
  {
   "cell_type": "code",
   "execution_count": 43,
   "id": "15e1406b",
   "metadata": {},
   "outputs": [
    {
     "name": "stdout",
     "output_type": "stream",
     "text": [
      "+-------+-----------------+-----------------+\n",
      "|summary|          consumo| numero_cilindros|\n",
      "+-------+-----------------+-----------------+\n",
      "|  count|              398|              398|\n",
      "|   mean|23.51457286432161|5.454773869346734|\n",
      "| stddev|7.815984312565782|1.701004244533212|\n",
      "|    min|              9.0|              3.0|\n",
      "|    max|             46.6|              8.0|\n",
      "+-------+-----------------+-----------------+\n",
      "\n"
     ]
    }
   ],
   "source": [
    "# Estatísticas descritivas de duas variáveis (como exemplo)\n",
    "df_carros.select(\"consumo\", \"numero_cilindros\").describe().show()"
   ]
  },
  {
   "cell_type": "code",
   "execution_count": 44,
   "id": "f1b0ad61",
   "metadata": {},
   "outputs": [
    {
     "name": "stdout",
     "output_type": "stream",
     "text": [
      "Correlação da Variável Target com: consumo 1.0\n",
      "Correlação da Variável Target com: numero_cilindros -0.7753962854205546\n",
      "Correlação da Variável Target com: capacidade -0.8042028248058979\n",
      "Correlação da Variável Target com: hosrsepower -0.7747041523498721\n",
      "Correlação da Variável Target com: peso -0.8317409332443347\n",
      "Correlação da Variável Target com: aceleracao 0.42028891210164976\n",
      "Correlação da Variável Target com: ano 0.5792671330833098\n"
     ]
    }
   ],
   "source": [
    "# Encontrando a correlação entre a variável target com as variáveis preditoras (exceto o nome)\n",
    "for i in df_carros.columns:\n",
    "    if not(isinstance(df_carros.select(i).take(1)[0][0], str)) :\n",
    "        print(\"Correlação da Variável Target com:\", i, df_carros.stat.corr('consumo', i))"
   ]
  },
  {
   "cell_type": "markdown",
   "id": "d983a795",
   "metadata": {},
   "source": [
    "# Pré-processamento"
   ]
  },
  {
   "cell_type": "code",
   "execution_count": 46,
   "id": "b4d20f56",
   "metadata": {},
   "outputs": [],
   "source": [
    "# Convertendo para um LabeledPoint (target, Vector[features])\n",
    "# Remove colunas não relevantes ou com baixa correlação\n",
    "def transformaVar(row) :\n",
    "    obj = (row[\"consumo\"], Vectors.dense([row[\"peso\"], row[\"capacidade\"], row[\"numero_cilindros\"]]))\n",
    "    return obj"
   ]
  },
  {
   "cell_type": "code",
   "execution_count": 47,
   "id": "7a75d309",
   "metadata": {},
   "outputs": [],
   "source": [
    "# Aplica a função no RDD e cria outro RDD\n",
    "dados4 = dados3.map(transformaVar)"
   ]
  },
  {
   "cell_type": "code",
   "execution_count": 48,
   "id": "408721c4",
   "metadata": {},
   "outputs": [
    {
     "data": {
      "text/plain": [
       "[(30.0, DenseVector([2074.0, 79.0, 4.0])),\n",
       " (30.0, DenseVector([2065.0, 88.0, 4.0])),\n",
       " (31.0, DenseVector([1773.0, 71.0, 4.0])),\n",
       " (35.0, DenseVector([1613.0, 72.0, 4.0])),\n",
       " (27.0, DenseVector([1834.0, 97.0, 4.0]))]"
      ]
     },
     "execution_count": 48,
     "metadata": {},
     "output_type": "execute_result"
    }
   ],
   "source": [
    "# Visualiza\n",
    "dados4.take(5)"
   ]
  },
  {
   "cell_type": "code",
   "execution_count": 49,
   "id": "cfd118fb",
   "metadata": {},
   "outputs": [],
   "source": [
    "# Converte o RDD para DataFrame do Spark\n",
    "df_carros = spSession.createDataFrame(dados4, [\"label\", \"features\"])"
   ]
  },
  {
   "cell_type": "code",
   "execution_count": 50,
   "id": "6e47c555",
   "metadata": {},
   "outputs": [
    {
     "name": "stdout",
     "output_type": "stream",
     "text": [
      "+-----+------------------+\n",
      "|label|          features|\n",
      "+-----+------------------+\n",
      "| 30.0| [2074.0,79.0,4.0]|\n",
      "| 30.0| [2065.0,88.0,4.0]|\n",
      "| 31.0| [1773.0,71.0,4.0]|\n",
      "| 35.0| [1613.0,72.0,4.0]|\n",
      "| 27.0| [1834.0,97.0,4.0]|\n",
      "| 26.0| [1955.0,91.0,4.0]|\n",
      "| 24.0|[2278.0,113.0,4.0]|\n",
      "| 25.0| [2126.0,97.5,4.0]|\n",
      "| 23.0| [2254.0,97.0,4.0]|\n",
      "| 20.0|[2408.0,140.0,4.0]|\n",
      "+-----+------------------+\n",
      "only showing top 10 rows\n",
      "\n"
     ]
    }
   ],
   "source": [
    "# Visualiza label (y) e atributos (x)\n",
    "df_carros.select(\"label\",\"features\").show(10)"
   ]
  },
  {
   "cell_type": "code",
   "execution_count": 51,
   "id": "79d58679",
   "metadata": {},
   "outputs": [],
   "source": [
    "# Divisão em dados de Treino e de Teste com split 70/30\n",
    "(dados_treino, dados_teste) = df_carros.randomSplit([0.7, 0.3])"
   ]
  },
  {
   "cell_type": "code",
   "execution_count": 52,
   "id": "a39e92ce",
   "metadata": {},
   "outputs": [
    {
     "data": {
      "text/plain": [
       "279"
      ]
     },
     "execution_count": 52,
     "metadata": {},
     "output_type": "execute_result"
    }
   ],
   "source": [
    "dados_treino.count()"
   ]
  },
  {
   "cell_type": "code",
   "execution_count": 53,
   "id": "bdf0d350",
   "metadata": {},
   "outputs": [
    {
     "data": {
      "text/plain": [
       "119"
      ]
     },
     "execution_count": 53,
     "metadata": {},
     "output_type": "execute_result"
    }
   ],
   "source": [
    "dados_teste.count()"
   ]
  },
  {
   "cell_type": "code",
   "execution_count": 54,
   "id": "073d7555",
   "metadata": {},
   "outputs": [],
   "source": [
    "# Machine Learning\n"
   ]
  },
  {
   "cell_type": "code",
   "execution_count": 55,
   "id": "c2e8e267",
   "metadata": {},
   "outputs": [],
   "source": [
    "# cria o objeto\n",
    "linearReg = LinearRegression()"
   ]
  },
  {
   "cell_type": "code",
   "execution_count": 56,
   "id": "490d20dc",
   "metadata": {},
   "outputs": [],
   "source": [
    "# Treina o objeto com dados e cria o modelo\n",
    "modelo = linearReg.fit(dados_treino)"
   ]
  },
  {
   "cell_type": "code",
   "execution_count": 57,
   "id": "78daa0f7",
   "metadata": {},
   "outputs": [
    {
     "name": "stdout",
     "output_type": "stream",
     "text": [
      "LinearRegressionModel: uid=LinearRegression_8ea789cee5d5, numFeatures=3\n"
     ]
    }
   ],
   "source": [
    "print(modelo)"
   ]
  },
  {
   "cell_type": "code",
   "execution_count": 58,
   "id": "38eda306",
   "metadata": {},
   "outputs": [
    {
     "name": "stdout",
     "output_type": "stream",
     "text": [
      "Coeficientes: [-0.005162466506450172,-0.018710149458404123,-0.24096296646809603]\n",
      "Intercepto: 43.62162228646625\n"
     ]
    }
   ],
   "source": [
    "# Imprimindo os coeficientes (o que o modelo aprendeu)\n",
    "print(\"Coeficientes: \" + str(modelo.coefficients))\n",
    "print(\"Intercepto: \" + str(modelo.intercept))"
   ]
  },
  {
   "cell_type": "code",
   "execution_count": 59,
   "id": "1e523edf",
   "metadata": {},
   "outputs": [],
   "source": [
    "# Previsões com dados de teste\n",
    "predictions = modelo.transform(dados_teste)"
   ]
  },
  {
   "cell_type": "code",
   "execution_count": 60,
   "id": "69ab83e5",
   "metadata": {},
   "outputs": [
    {
     "name": "stdout",
     "output_type": "stream",
     "text": [
      "+------------------+------------------+\n",
      "|          features|        prediction|\n",
      "+------------------+------------------+\n",
      "|[3664.0,350.0,8.0]|16.230088964646608|\n",
      "|[4382.0,318.0,8.0]|13.122162795684318|\n",
      "|[4906.0,400.0,8.0]| 8.882798090715283|\n",
      "|[4100.0,350.0,8.0]|13.979253567834334|\n",
      "|[4502.0,350.0,8.0]|11.903942032241364|\n",
      "|[4654.0,360.0,8.0]|10.932145628676892|\n",
      "|[4699.0,350.0,8.0]| 10.88693613047068|\n",
      "|[4735.0,440.0,8.0]|   9.0171738849821|\n",
      "|[4746.0,400.0,8.0]| 9.708792731747316|\n",
      "|[4077.0,318.0,8.0]| 14.69671508015162|\n",
      "|[4129.0,351.0,8.0]|13.810831889688874|\n",
      "|[4154.0,351.0,8.0]| 13.68177022702762|\n",
      "|[4209.0,350.0,8.0]|13.416544718631265|\n",
      "|[4257.0,304.0,8.0]|14.029413201408246|\n",
      "|[4354.0,454.0,8.0]| 10.72213153152196|\n",
      "|[4425.0,455.0,8.0]|10.336886260105594|\n",
      "|[4457.0,318.0,8.0]|12.734977807700556|\n",
      "|[4638.0,302.0,8.0]|12.099933761367542|\n",
      "|[4215.0,351.0,8.0]|13.366859770134159|\n",
      "|[3693.0,350.0,8.0]| 16.08037743595955|\n",
      "+------------------+------------------+\n",
      "only showing top 20 rows\n",
      "\n"
     ]
    }
   ],
   "source": [
    "# Visualiza as previsões\n",
    "predictions.select(\"features\", \"prediction\").show()"
   ]
  },
  {
   "cell_type": "code",
   "execution_count": 61,
   "id": "8638a3eb",
   "metadata": {},
   "outputs": [],
   "source": [
    "# Coeficiente de determinação R2\n",
    "avaliador = RegressionEvaluator(predictionCol = \"prediction\", labelCol = \"label\", metricName = \"r2\")"
   ]
  },
  {
   "cell_type": "code",
   "execution_count": 62,
   "id": "bf986217",
   "metadata": {},
   "outputs": [
    {
     "data": {
      "text/plain": [
       "0.6710647104158914"
      ]
     },
     "execution_count": 62,
     "metadata": {},
     "output_type": "execute_result"
    }
   ],
   "source": [
    "# Resultado\n",
    "avaliador.evaluate(predictions) "
   ]
  }
 ],
 "metadata": {
  "kernelspec": {
   "display_name": "Python 3 (ipykernel)",
   "language": "python",
   "name": "python3"
  },
  "language_info": {
   "codemirror_mode": {
    "name": "ipython",
    "version": 3
   },
   "file_extension": ".py",
   "mimetype": "text/x-python",
   "name": "python",
   "nbconvert_exporter": "python",
   "pygments_lexer": "ipython3",
   "version": "3.9.12"
  }
 },
 "nbformat": 4,
 "nbformat_minor": 5
}
